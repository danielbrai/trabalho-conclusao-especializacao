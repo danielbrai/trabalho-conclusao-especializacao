{
 "cells": [
  {
   "cell_type": "code",
   "execution_count": null,
   "id": "4de32419-03c9-4823-a780-b38b3dd67529",
   "metadata": {},
   "outputs": [],
   "source": [
    "import json\n",
    "import pandas as pd\n",
    "import re\n",
    "import math\n",
    "import pandas as pd\n",
    "from sklearn.preprocessing import MultiLabelBinarizer, OneHotEncoder, LabelBinarizer\n",
    "import numpy as np"
   ]
  },
  {
   "cell_type": "code",
   "execution_count": null,
   "id": "f23b492b-f955-4609-ae79-e4c44b30ccbf",
   "metadata": {},
   "outputs": [],
   "source": [
    "with open('data/default-cards-20230612090651.json') as f:\n",
    "    cards_json = json.load(f)"
   ]
  },
  {
   "cell_type": "code",
   "execution_count": null,
   "id": "dd124a30-b681-4eb2-a368-a860fe6220fe",
   "metadata": {},
   "outputs": [],
   "source": [
    "len(cards_json)"
   ]
  },
  {
   "cell_type": "code",
   "execution_count": null,
   "id": "07f2621b-abde-440c-9145-729d02d8cd40",
   "metadata": {},
   "outputs": [],
   "source": [
    "double_faced_cards = []\n",
    "\n",
    "for card in cards_json:\n",
    "    if '//' in card['name']:\n",
    "        double_faced_cards.append(card)"
   ]
  },
  {
   "cell_type": "code",
   "execution_count": null,
   "id": "ec72b5c6-7941-40bb-b815-f1f0c38633aa",
   "metadata": {},
   "outputs": [],
   "source": [
    "len(double_faced_cards)"
   ]
  },
  {
   "cell_type": "markdown",
   "id": "f7d07581-fe30-4c0c-976f-3c916b3492d2",
   "metadata": {},
   "source": [
    "## Preparação do conjunto de dados"
   ]
  },
  {
   "cell_type": "markdown",
   "id": "ec871770-a837-45ab-bbc4-ac71d9405939",
   "metadata": {},
   "source": [
    "### Carga e tratamento inicial do conjunto de dados de cartas"
   ]
  },
  {
   "cell_type": "code",
   "execution_count": null,
   "id": "248e7784-eff8-4769-af50-e403cf2f1946",
   "metadata": {},
   "outputs": [],
   "source": [
    "pd.set_option('display.max_columns', None)"
   ]
  },
  {
   "cell_type": "code",
   "execution_count": null,
   "id": "10ecc424-69aa-4616-8157-642846bafadd",
   "metadata": {},
   "outputs": [],
   "source": [
    "raw_cards = pd.read_json('data/default-cards-20230612090651.json')\n",
    "print(f'Starter raw card set length ---> : {len(raw_cards.index)}')"
   ]
  },
  {
   "cell_type": "code",
   "execution_count": null,
   "id": "f40a97c7-d196-4b68-8559-3dfaf232fdaa",
   "metadata": {},
   "outputs": [],
   "source": [
    "card_set_drop_reprints = raw_cards.query('reprint != True')\n",
    "print(f'Number of removed cards ---> : {len(raw_cards.index) - len(card_set_drop_reprints.index)}')\n",
    "print(f'Current card set length ---> : {len(card_set_drop_reprints.index)}')"
   ]
  },
  {
   "cell_type": "code",
   "execution_count": null,
   "id": "6b1e3875-bd73-42f0-aadc-13894e485575",
   "metadata": {},
   "outputs": [],
   "source": [
    "card_set_drop_digital_content = card_set_drop_reprints.query('digital != True')\n",
    "print(f'Number of removed cards ---> : {len(card_set_drop_reprints.index) - len(card_set_drop_digital_content.index)}')\n",
    "print(f'Current card set length ---> : {len(card_set_drop_digital_content.index)}')"
   ]
  },
  {
   "cell_type": "code",
   "execution_count": null,
   "id": "c4dc8101-7b6e-4c74-a841-bcca6a1585a4",
   "metadata": {},
   "outputs": [],
   "source": [
    "card_set_drop_tokens = card_set_drop_digital_content.query('not type_line.str.contains(\"Token\")')\n",
    "card_set_drop_tokens = card_set_drop_tokens.query('not type_line.str.contains(\"Tolkien\")')\n",
    "print(f'Current card set length without tokens ---> : {len(card_set_drop_tokens.index)}')"
   ]
  },
  {
   "cell_type": "markdown",
   "id": "79d016cc-386b-4ed1-9a45-df88626e49b4",
   "metadata": {},
   "source": [
    "#### Remoção de cartas de sets inválidos"
   ]
  },
  {
   "cell_type": "code",
   "execution_count": null,
   "id": "c9b09de2-0b3f-4870-9820-fbdba3673b64",
   "metadata": {},
   "outputs": [],
   "source": [
    "card_set_drop_tokens = card_set_drop_tokens[card_set_drop_tokens['set_name'] != 'Unstable' ]\n",
    "card_set_drop_tokens = card_set_drop_tokens[card_set_drop_tokens['set_name'] != 'Unhinged' ]\n",
    "card_set_drop_tokens = card_set_drop_tokens[card_set_drop_tokens['set_name'] != 'Unglued' ]\n",
    "card_set_drop_tokens = card_set_drop_tokens[card_set_drop_tokens['set_name'] != 'Unsanctioned' ]\n",
    "card_set_drop_tokens = card_set_drop_tokens[card_set_drop_tokens['set_name'] != 'Unfinity' ]\n",
    "card_set_drop_tokens = card_set_drop_tokens[card_set_drop_tokens['set_name'] !=  \"Journey into Nyx Hero's Path\" ]\n",
    "card_set_drop_tokens = card_set_drop_tokens[card_set_drop_tokens['set_name'] !=  \"Theros Hero's Path\" ]\n",
    "card_set_drop_tokens = card_set_drop_tokens[card_set_drop_tokens['set_name'] !=  \"Born of the Gods Hero's Path\" ]\n",
    "card_set_drop_tokens = card_set_drop_tokens[card_set_drop_tokens['set_name'] !=  \"Mystery Booster\" ]\n",
    "card_set_drop_tokens = card_set_drop_tokens[card_set_drop_tokens['set_name'] !=  \"Mystery Booster Playtest Cards 2019\" ]\n",
    "card_set_drop_tokens = card_set_drop_tokens[card_set_drop_tokens['set_name'] !=  \"Mystery Booster Playtest Cards 2021\" ]\n",
    "\n",
    "\n",
    "\n"
   ]
  },
  {
   "cell_type": "code",
   "execution_count": null,
   "id": "0e4cf5fc-4f37-4ddf-ad18-2ac9de68ff44",
   "metadata": {},
   "outputs": [],
   "source": [
    "card_set_drop_tokens.columns.values.tolist()"
   ]
  },
  {
   "cell_type": "code",
   "execution_count": null,
   "id": "ae12a3a8-3dd7-4087-b05f-6bb49e8cf930",
   "metadata": {},
   "outputs": [],
   "source": [
    "undesired_columns = [\n",
    "    'object',\n",
    "    'multiverse_ids',\n",
    "    'mtgo_id',\n",
    "    'mtgo_foil_id',\n",
    "    'tcgplayer_id',\n",
    "    'cardmarket_id',\n",
    "    'lang',\n",
    "    'released_at',\n",
    "    'uri',\n",
    "    'scryfall_uri',\n",
    "    'layout',\n",
    "    'highres_image',\n",
    "    'image_status',\n",
    "    'image_uris',\n",
    "    'games',\n",
    "    'foil',\n",
    "    'nonfoil',\n",
    "    'finishes',\n",
    "    'oversized',\n",
    "    'promo',\n",
    "    'variation',\n",
    "    'set_id',\n",
    "    'set',\n",
    "    'set_name',\n",
    "    'set_type',\n",
    "    'set_uri',\n",
    "    'set_search_uri',\n",
    "    'scryfall_set_uri',\n",
    "    'rulings_uri',\n",
    "    'prints_search_uri',\n",
    "    'collector_number',\n",
    "    'card_back_id',\n",
    "    'artist',\n",
    "    'artist_ids',\n",
    "    'illustration_id',\n",
    "    'border_color',\n",
    "    'frame',\n",
    "    'full_art',\n",
    "    'textless',\n",
    "    'booster',\n",
    "    'story_spotlight',\n",
    "    'prices',\n",
    "    'related_uris',\n",
    "    'all_parts',\n",
    "    'promo_types',\n",
    "    'arena_id',\n",
    "    'preview',\n",
    "    'security_stamp',\n",
    "    'watermark',\n",
    "    'frame_effects',\n",
    "    'card_faces',\n",
    "    'tcgplayer_etched_id',\n",
    "    'attraction_lights',\n",
    "    'variation_of',\n",
    "    'printed_type_line',\n",
    "    'printed_text',\n",
    "    'printed_name',\n",
    "    'content_warning',\n",
    "    'flavor_name',\n",
    "    'reprint',\n",
    "    'digital',\n",
    "    'color_indicator',\n",
    "    'edhrec_rank',\n",
    "    'penny_rank',\n",
    "    'legalities',\n",
    "    'reserved',\n",
    "    'rarity',\n",
    "    'life_modifier',\n",
    "    'hand_modifier',\n",
    "    'color_identity'\n",
    "]"
   ]
  },
  {
   "cell_type": "code",
   "execution_count": null,
   "id": "51391233-31e5-42c2-a290-727eecb0deb4",
   "metadata": {},
   "outputs": [],
   "source": [
    "card_set_cleaned_undesired_columns = card_set_drop_tokens.drop(columns=undesired_columns)\n",
    "print(f'Total de colunas original ---> {card_set_drop_tokens.shape[1]} colunas')\n",
    "print(f'Total de colunas após limpeza ---> {card_set_cleaned_undesired_columns.shape[1]} colunas')\n",
    "print(f'Número de colunas removidas ---> {len(undesired_columns)} colunas')\n"
   ]
  },
  {
   "cell_type": "code",
   "execution_count": null,
   "id": "92528319-82a4-491e-8071-c7852fab8f4b",
   "metadata": {},
   "outputs": [],
   "source": [
    "card_set_cleaned_undesired_columns.columns.values.tolist()"
   ]
  },
  {
   "cell_type": "code",
   "execution_count": null,
   "id": "d11d359f-9355-4430-8d7e-9ee72c1267c1",
   "metadata": {},
   "outputs": [],
   "source": [
    "card_set_without_duplicates = card_set_cleaned_undesired_columns.drop_duplicates(subset='oracle_id')\n",
    "print(f'Total de cartas ANTES da eliminação das duplicatas ---> {len(card_set_cleaned_undesired_columns)}')\n",
    "print(f'Total de cartas APÓS da eliminação das duplicatas ---> {len(card_set_without_duplicates)}')\n",
    "print(f'número de duplicatas removidas ---> {len(card_set_cleaned_undesired_columns)-len(card_set_without_duplicates)}')"
   ]
  },
  {
   "cell_type": "code",
   "execution_count": null,
   "id": "f1204d6e-d599-46cc-87c8-5f9d46cef6d5",
   "metadata": {},
   "outputs": [],
   "source": [
    "mtg_card_types = [\n",
    "    'Artifact',\n",
    "    'Battle ',\n",
    "    'Creature',\n",
    "    'Enchantment',\n",
    "    'Land',\n",
    "    'Planeswalker',\n",
    "    'Instant',\n",
    "    'Sorcery'\n",
    "]\n",
    "\n",
    "card_set_standardized_types = card_set_without_duplicates[card_set_without_duplicates['type_line'].str.contains('|'.join(mtg_card_types))]\n",
    "print(f'Total de cartas ANTES da eliminação de tipos não desejados ---> {len(card_set_without_duplicates)}')\n",
    "print(f'Total de cartas APÓS da eliminação de tipos não desejados ---> {len(card_set_standardized_types)}')\n",
    "print(f'Número de cartas com tipos não desejados removidas ---> {len(card_set_without_duplicates)-len(card_set_standardized_types)}')"
   ]
  },
  {
   "cell_type": "code",
   "execution_count": null,
   "id": "7ba00d20-b0df-4f1d-b1da-46c72b4776b5",
   "metadata": {
    "scrolled": true
   },
   "outputs": [],
   "source": [
    "double_faced_cards_dataset = card_set_standardized_types[card_set_standardized_types['type_line'].str.contains('//')]\n",
    "double_faced_cards_dataset.shape"
   ]
  },
  {
   "cell_type": "code",
   "execution_count": null,
   "id": "92fca45f-a092-4b9c-ac3e-10f5996a8440",
   "metadata": {},
   "outputs": [],
   "source": [
    "def getDoublefacedCardData(card_id):\n",
    "    card = next(x for x in cards_json if x['id'] == card_id)\n",
    "\n",
    "    front_face = card['card_faces'][0]\n",
    "    back_face = card['card_faces'][1]\n",
    "    \n",
    "    return (\n",
    "        {\n",
    "            'id': card['id'],\n",
    "            'oracle_id': card['oracle_id'],\n",
    "            'mana_cost': front_face['mana_cost'] if 'mana_cost' in front_face else None,\n",
    "            'cmc': card['cmc'],\n",
    "            'type_line': front_face['type_line'],\n",
    "            'oracle_text': front_face['oracle_text'] if 'oracle_text' in front_face else None,\n",
    "            'power': front_face['power'] if 'power' in front_face else None,\n",
    "            'toughness': front_face['toughness'] if 'toughness' in front_face else None,\n",
    "            'colors': front_face['colors'] if 'colors' in front_face else None,\n",
    "            'color_identity': card['color_identity'],\n",
    "            'keywords': card['keywords'],\n",
    "            'legalities': card['legalities'],\n",
    "            'reserved': card['reserved'],\n",
    "            'rarity': card['rarity'],\n",
    "            'flavor_text': front_face['flavor_text'] if 'flavor_text' in front_face else None,\n",
    "            'produced_mana': front_face['loyalty'] if 'loyalty' in front_face else None,\n",
    "            'loyalty': front_face['loyalty'] if 'loyalty' in front_face else None,\n",
    "            'life_modifier': front_face['life_modifier'] if 'life_modifier' in front_face else None,\n",
    "            'hand_modifier': front_face['hand_modifier'] if 'hand_modifier' in front_face else None\n",
    "        },\n",
    "        {\n",
    "            'id': card['id'],\n",
    "            'oracle_id': card['oracle_id'],\n",
    "            'mana_cost': back_face['mana_cost'] if 'mana_cost' in back_face else None,\n",
    "            'cmc': card['cmc'],\n",
    "            'type_line': back_face['type_line'],\n",
    "            'oracle_text': back_face['oracle_text'] if 'oracle_text' in back_face else None,\n",
    "            'power': back_face['power'] if 'power' in back_face else None,\n",
    "            'toughness': back_face['toughness'] if 'toughness' in back_face else None,\n",
    "            'colors': back_face['colors'] if 'colors' in back_face else None,\n",
    "            'color_identity': card['color_identity'],\n",
    "            'keywords': card['keywords'],\n",
    "            'legalities': card['legalities'],\n",
    "            'reserved': card['reserved'],\n",
    "            'rarity': card['rarity'],\n",
    "            'flavor_text': back_face['flavor_text'] if 'flavor_text' in back_face else None,\n",
    "            'produced_mana': back_face['loyalty'] if 'loyalty' in back_face else None,\n",
    "            'loyalty': back_face['loyalty'] if 'loyalty' in back_face else None,\n",
    "            'life_modifier': back_face['life_modifier'] if 'life_modifier' in back_face else None,\n",
    "            'hand_modifier': back_face['hand_modifier'] if 'hand_modifier' in back_face else None\n",
    "        }\n",
    "    )\n"
   ]
  },
  {
   "cell_type": "code",
   "execution_count": null,
   "id": "1a31edd8-7448-42d7-859f-2bd528003423",
   "metadata": {},
   "outputs": [],
   "source": [
    "double_faced_cards_id_list = double_faced_cards_dataset.id.tolist()\n",
    "print(f'Total de cartas com face dupla ---> { len(double_faced_cards_id_list)} cartas')"
   ]
  },
  {
   "cell_type": "code",
   "execution_count": null,
   "id": "bd6775c2-789a-4bed-8aa4-6b7228232d0e",
   "metadata": {},
   "outputs": [],
   "source": [
    "double_faced_cards_splited = []\n",
    "\n",
    "for id in double_faced_cards_id_list:\n",
    "    double_faced_cards_splited.extend(getDoublefacedCardData(id))\n",
    "\n",
    "print(f'Montante de cartas a ser adicionado ao dataframe ---> {len(double_faced_cards_splited)} cartas')"
   ]
  },
  {
   "cell_type": "code",
   "execution_count": null,
   "id": "1a199036-f272-4876-a409-5ce8babd70a9",
   "metadata": {
    "scrolled": true
   },
   "outputs": [],
   "source": [
    "# print(f'{dropped_double_faced_cards_dataset}')\n",
    "\n",
    "cards_to_drop = card_set_standardized_types.loc[card_set_standardized_types['id'].isin(double_faced_cards_id_list)].index\n",
    "total_cards_to_drop = len(cards_to_drop)\n",
    "print(f'Número de registros a serem removidos ---> {total_cards_to_drop} cartas')\n",
    "\n",
    "dropped_double_faced_cards_dataset = card_set_standardized_types.drop(cards_to_drop)\n",
    "\n",
    "total_cards_after_drop  = len(dropped_double_faced_cards_dataset.index)\n",
    "total_cards_before_drop = len(card_set_standardized_types.index)\n",
    "\n",
    "print(f'Total de cartas ANTES da remoção das cartas com face dupla ---> {total_cards_before_drop} cartas')\n",
    "print(f'Total de cartas APÓS da remoção das cartas com face dupla ---> {total_cards_after_drop} cartas')\n",
    "print(f'Total de cartas cartas face dupla removidas ---> { total_cards_before_drop - total_cards_after_drop} cartas')\n",
    "\n",
    "dropped_double_faced_cards_dataset._append(double_faced_cards)\n",
    "dropped_double_faced_cards_dataset.shape"
   ]
  },
  {
   "cell_type": "code",
   "execution_count": null,
   "id": "697e5ffa-5dcb-4687-a85a-d87e9bc9da98",
   "metadata": {},
   "outputs": [],
   "source": [
    "final_cards_dataset = dropped_double_faced_cards_dataset.copy()\n",
    "final_cards_dataset.shape"
   ]
  },
  {
   "cell_type": "markdown",
   "id": "f78a199a-ea80-4e36-91f2-a7c1afd6061e",
   "metadata": {},
   "source": [
    "### Carga e tratamento do conjunto de dados de regras expandidas"
   ]
  },
  {
   "cell_type": "code",
   "execution_count": null,
   "id": "edc0f61f-f698-4655-b758-98657369ea41",
   "metadata": {},
   "outputs": [],
   "source": [
    "rules = pd.read_json('data/rulings-20230612090033.json')\n",
    "rules"
   ]
  },
  {
   "cell_type": "code",
   "execution_count": null,
   "id": "6717f3de-6bcf-4d97-bc44-41ba811a0695",
   "metadata": {},
   "outputs": [],
   "source": [
    "cleaned_rules = rules.drop(columns=['object', 'source', 'published_at'])\n",
    "cleaned_rules"
   ]
  },
  {
   "cell_type": "code",
   "execution_count": null,
   "id": "ddd81e78-7095-47fc-94a4-a9c3ba2a38b5",
   "metadata": {},
   "outputs": [],
   "source": [
    "grouped_rules = cleaned_rules.groupby(['oracle_id']).agg(lambda x: x.tolist())\n",
    "grouped_rules.shape"
   ]
  },
  {
   "cell_type": "code",
   "execution_count": null,
   "id": "ff4357b7-3df7-40d8-ad27-74dcd2007529",
   "metadata": {},
   "outputs": [],
   "source": [
    "final_rules_dataset = grouped_rules.copy()"
   ]
  },
  {
   "cell_type": "markdown",
   "id": "377a5e64-88d8-4d52-b58f-794c0cd6dfb2",
   "metadata": {},
   "source": [
    "## Mesclagem dos conjuntos de dados"
   ]
  },
  {
   "cell_type": "code",
   "execution_count": null,
   "id": "53031ca6-b032-461e-9c0f-3589e669f3ad",
   "metadata": {},
   "outputs": [],
   "source": [
    "merged_dataset = final_cards_dataset.merge(final_rules_dataset, on='oracle_id', how='left')\n",
    "merged_dataset.shape"
   ]
  },
  {
   "cell_type": "code",
   "execution_count": null,
   "id": "1cf6b153-45f7-4279-9eb6-bef865ccad52",
   "metadata": {},
   "outputs": [],
   "source": [
    "final_merged_dataset = merged_dataset.drop(columns=['id', 'oracle_id'])\n",
    "final_merged_dataset.shape"
   ]
  },
  {
   "cell_type": "markdown",
   "id": "28d82e7e-3903-411d-9286-dadfbf9d1525",
   "metadata": {},
   "source": [
    "## Pré-processamento do dataset"
   ]
  },
  {
   "cell_type": "markdown",
   "id": "5cdfcdbc-3b22-4e30-9816-8eced1451444",
   "metadata": {},
   "source": [
    "### Correção do tipo"
   ]
  },
  {
   "cell_type": "code",
   "execution_count": null,
   "id": "94440723-84ba-42b1-a093-ff9cd3f84596",
   "metadata": {},
   "outputs": [],
   "source": [
    "# final_merged_dataset[['type', 'subtype']] = final_merged_dataset['type_line'].str.split(' — ', expand=True)\n",
    "# final_merged_dataset\n",
    "splitted_type_dataset = final_merged_dataset.copy()\n",
    "splitted_type_dataset[['type', 'subtype']] = splitted_type_dataset['type_line'].str.split('—', expand=True)\n",
    "splitted_type_dataset.drop(columns=[ 'type_line'], inplace=True)\n",
    "splitted_type_dataset.shape"
   ]
  },
  {
   "cell_type": "markdown",
   "id": "ece987e4-f5f2-4f1e-9ed6-17ba7f63a893",
   "metadata": {},
   "source": [
    "### Cálculo de devoção"
   ]
  },
  {
   "cell_type": "code",
   "execution_count": null,
   "id": "19e9bc1b-72de-4901-b118-c31442684142",
   "metadata": {},
   "outputs": [],
   "source": [
    "def calcDevotion(devotion):\n",
    "\n",
    "    if not devotion:\n",
    "        return 0\n",
    "\n",
    "    devotion = str(devotion)\n",
    "\n",
    "    devotions = []\n",
    "    devotions.append(len(re.findall(\"[w]\", devotion, re.IGNORECASE)))\n",
    "    devotions.append(len(re.findall(\"[r]\", devotion, re.IGNORECASE)))\n",
    "    devotions.append(len(re.findall(\"[u]\", devotion, re.IGNORECASE)))\n",
    "    devotions.append(len(re.findall(\"[g]\", devotion, re.IGNORECASE)))\n",
    "    devotions.append(len(re.findall(\"[b]\", devotion, re.IGNORECASE)))\n",
    "\n",
    "    return max(devotions)"
   ]
  },
  {
   "cell_type": "code",
   "execution_count": null,
   "id": "493a7dc2-82ba-46f9-8935-0ba77110f566",
   "metadata": {},
   "outputs": [],
   "source": [
    "devotion_data_set = splitted_type_dataset.copy()\n",
    "devotion_data_set['devotion'] = devotion_data_set.apply(lambda x : calcDevotion(x.mana_cost), axis=1)\n",
    "devotion_data_set.shape"
   ]
  },
  {
   "cell_type": "markdown",
   "id": "57fed043-eea1-4823-8998-3996189aede4",
   "metadata": {},
   "source": [
    "### Cálculo de mana phyrexiano"
   ]
  },
  {
   "cell_type": "code",
   "execution_count": null,
   "id": "fb8b90fe-ed34-4fdd-9827-1ca10189a6b8",
   "metadata": {},
   "outputs": [],
   "source": [
    "def checkPhyrexianMana(manaCost):\n",
    "\n",
    "    if not manaCost:\n",
    "        return 0\n",
    "\n",
    "    return 1 if re.search('P', manaCost) else 0\n"
   ]
  },
  {
   "cell_type": "code",
   "execution_count": null,
   "id": "d40118d3-37cb-4ddc-aac4-f8984b1b27ec",
   "metadata": {},
   "outputs": [],
   "source": [
    "phyrexian_mana_data_set = devotion_data_set.copy()\n",
    "phyrexian_mana_data_set['phyrexian_mana'] = phyrexian_mana_data_set.apply(lambda x : checkPhyrexianMana(x.mana_cost), axis=1)\n",
    "phyrexian_mana_data_set.drop(columns='mana_cost', inplace=True)\n",
    "phyrexian_mana_data_set.shape"
   ]
  },
  {
   "cell_type": "markdown",
   "id": "1851b412-bb41-42a6-b78a-f01b8b064f49",
   "metadata": {},
   "source": [
    "### Cálculo do _flavor text_"
   ]
  },
  {
   "cell_type": "code",
   "execution_count": null,
   "id": "a1d451fb-fa46-467e-9845-a497ca48a05b",
   "metadata": {},
   "outputs": [],
   "source": [
    "def calcTextLen(txt):\n",
    "    \n",
    "    if isinstance(txt, str):\n",
    "        return len(txt)\n",
    "\n",
    "    return 0"
   ]
  },
  {
   "cell_type": "code",
   "execution_count": null,
   "id": "583ae51c-278d-4705-a4d4-3a96cfb7e3df",
   "metadata": {},
   "outputs": [],
   "source": [
    "flavor_data_set = phyrexian_mana_data_set.copy()\n",
    "flavor_data_set['flavor_size'] = flavor_data_set.apply(lambda x : calcTextLen(x.flavor_text), axis=1)\n",
    "flavor_data_set.drop(columns=['flavor_text'], inplace=True)\n",
    "flavor_data_set.shape"
   ]
  },
  {
   "cell_type": "markdown",
   "id": "77ff0b7d-37f4-49d9-9e4e-8fa1a0cdc9e6",
   "metadata": {},
   "source": [
    "### Cálculo do número de habilidades"
   ]
  },
  {
   "cell_type": "code",
   "execution_count": null,
   "id": "c3e220b0-12ce-46d7-ab6a-8354be95ebbf",
   "metadata": {},
   "outputs": [],
   "source": [
    "def calcAbilities(key_words: list):\n",
    "\n",
    "    if key_words :\n",
    "        return len(key_words)\n",
    "        \n",
    "    return 0"
   ]
  },
  {
   "cell_type": "code",
   "execution_count": null,
   "id": "7fb11e44-bc50-4698-8c79-da3ecf386466",
   "metadata": {},
   "outputs": [],
   "source": [
    "abilities_dataset = flavor_data_set.copy()\n",
    "abilities_dataset['abilities'] = abilities_dataset.apply(lambda row: calcAbilities(row['keywords']), axis=1)\n",
    "abilities_dataset.drop(columns=['keywords'], inplace=True)\n",
    "abilities_dataset.shape"
   ]
  },
  {
   "cell_type": "markdown",
   "id": "fa25df42-bb7c-4d4f-932d-5048ce3c512f",
   "metadata": {},
   "source": [
    "### Cálculo de produção de mana\n",
    "\n",
    "Aqui haviam duas abordagens: \n",
    "\n",
    "1. Assumir um booleano que representa se uma carta é ou não capaz de produzir mana;\n",
    "2. Definir quantas cores diferentes de mana uma dada carta pode gerar (sendo, portanto, um valor numérico - e não lógico como acima - que pode assumir o intervalo entre 0 e 5, inclusos)\n",
    "\n",
    "Num primeiro momento, optou-se pela abordagem 1."
   ]
  },
  {
   "cell_type": "code",
   "execution_count": null,
   "id": "570f4c7d-a9e2-4066-b3c2-5c4414cdff63",
   "metadata": {},
   "outputs": [],
   "source": [
    "def canProduceMana(producedMana):\n",
    "\n",
    "    if isinstance(producedMana, list):\n",
    "        return 1 if len(producedMana) > 0 else 0\n",
    "\n",
    "    return 0 if not producedMana or math.isnan(producedMana) else 0\n"
   ]
  },
  {
   "cell_type": "code",
   "execution_count": null,
   "id": "e2eced73-87cc-47b1-a4b6-4aa6fe8a6f8f",
   "metadata": {},
   "outputs": [],
   "source": [
    "produced_mana_dataset = abilities_dataset.copy()\n",
    "produced_mana_dataset['produced_mana'] = produced_mana_dataset.apply(lambda row: canProduceMana(row['produced_mana']), axis=1)"
   ]
  },
  {
   "cell_type": "code",
   "execution_count": null,
   "id": "5bf49a3f-c4ae-4c1b-a6d3-aec0bc51ae2b",
   "metadata": {},
   "outputs": [],
   "source": [
    "produced_mana_dataset.columns"
   ]
  },
  {
   "cell_type": "markdown",
   "id": "e0a73a62-3b68-4f70-90ee-d412c53a64f9",
   "metadata": {},
   "source": [
    "### Substituição do nome da carta"
   ]
  },
  {
   "cell_type": "code",
   "execution_count": null,
   "id": "e4c8f117-3050-4c1e-9ae8-e5314fec82b3",
   "metadata": {},
   "outputs": [],
   "source": [
    "def replaceCardName(card_name, oracle_text) :\n",
    "\n",
    "    if oracle_text and pd.notna(oracle_text) and card_name and pd.notna(card_name):\n",
    "        return oracle_text.replace(card_name, 'CARDNAME')"
   ]
  },
  {
   "cell_type": "code",
   "execution_count": null,
   "id": "115d98c9-975e-4d4a-989c-281d9550b8cf",
   "metadata": {},
   "outputs": [],
   "source": [
    "card_replaced_name_by_token_dataset = produced_mana_dataset.copy()\n",
    "card_replaced_name_by_token_dataset['oracle_text'] = card_replaced_name_by_token_dataset.apply(lambda row: replaceCardName(row['name'], row['oracle_text']), axis=1)\n",
    "card_replaced_name_by_token_dataset.drop(columns='name', inplace=True)\n",
    "card_replaced_name_by_token_dataset.shape"
   ]
  },
  {
   "cell_type": "markdown",
   "id": "d6a72b5c-4ec7-4d8a-b23c-0f1376ebcd23",
   "metadata": {},
   "source": [
    "### Concatenação do texto de regras"
   ]
  },
  {
   "cell_type": "code",
   "execution_count": null,
   "id": "47b32e83-934e-4307-8b64-64c880ebfef6",
   "metadata": {},
   "outputs": [],
   "source": [
    "def joinCardRules(cardRules):\n",
    "\n",
    "    if isinstance(cardRules, list):\n",
    "        return ' '.join(cardRules)"
   ]
  },
  {
   "cell_type": "code",
   "execution_count": null,
   "id": "b9159e87-c5a7-416a-bfc0-97680c191d18",
   "metadata": {},
   "outputs": [],
   "source": [
    "joined_rules_dataset = card_replaced_name_by_token_dataset.copy()\n",
    "joined_rules_dataset['comment'] = joined_rules_dataset.apply(lambda row: joinCardRules(row['comment']), axis=1)"
   ]
  },
  {
   "cell_type": "markdown",
   "id": "00ed9d3e-efa5-4340-af57-818bd472f159",
   "metadata": {},
   "source": [
    "### Tratamento de Tipos e Supertipos"
   ]
  },
  {
   "cell_type": "code",
   "execution_count": null,
   "id": "34e56e31-f745-4604-8377-0c405f2eff39",
   "metadata": {},
   "outputs": [],
   "source": [
    "def getSuperTypes(type) :\n",
    "\n",
    "    if type :\n",
    "        supertype_type = type.strip().split(\" \")\n",
    "\n",
    "        mtg_card_types = [\n",
    "            'Artifact',\n",
    "            'Battle ',\n",
    "            'Creature',\n",
    "            'Enchantment',\n",
    "            'Land',\n",
    "            'Planeswalker',\n",
    "            'Instant',\n",
    "            'Sorcery'\n",
    "        ]\n",
    "\n",
    "        supertypes = supertype_type[:-1]\n",
    "        types = supertype_type[-1:]\n",
    "\n",
    "        supertypes = [x for x in supertypes if x not in mtg_card_types]\n",
    "        \n",
    "        return  (supertypes, types)"
   ]
  },
  {
   "cell_type": "code",
   "execution_count": null,
   "id": "a2be60f9-a53c-414f-847b-f35f0325d3e1",
   "metadata": {
    "scrolled": true
   },
   "outputs": [],
   "source": [
    "supertypes_and_types_dataset = joined_rules_dataset.copy()\n",
    "supertypes_with_types_tuple = supertypes_and_types_dataset.apply(lambda row: getSuperTypes(row['type']), axis=1)\n",
    "supertypes_and_types_dataset['supertype'] = supertypes_with_types_tuple.apply(lambda row: row[0])\n",
    "supertypes_and_types_dataset['type'] = supertypes_with_types_tuple.apply(lambda row: row[1][0])\n",
    "supertypes_and_types_dataset.tail()"
   ]
  },
  {
   "cell_type": "markdown",
   "id": "207a6543-9993-411a-976b-ea4d4ec7ed0f",
   "metadata": {},
   "source": [
    "### Recuperando as Dummies Variables"
   ]
  },
  {
   "cell_type": "code",
   "execution_count": null,
   "id": "f69a701e-6c9d-48d9-af1c-f7777801477f",
   "metadata": {},
   "outputs": [],
   "source": [
    "dummies_dataset = supertypes_and_types_dataset.copy()\n",
    "\n",
    "mlb = MultiLabelBinarizer()\n",
    "\n",
    "splited_colors = pd.DataFrame(mlb.fit_transform(dummies_dataset['colors']), columns=mlb.classes_, index=dummies_dataset.index)\n",
    "splited_colors"
   ]
  },
  {
   "cell_type": "code",
   "execution_count": null,
   "id": "96f498a7-27df-4a35-bdbb-725514ee221e",
   "metadata": {},
   "outputs": [],
   "source": [
    "dummies_dataset_colors = dummies_dataset.join(splited_colors)\n",
    "dummies_dataset_colors"
   ]
  },
  {
   "cell_type": "code",
   "execution_count": null,
   "id": "b8c3f827-4c47-4972-86ea-773627b8936f",
   "metadata": {},
   "outputs": [],
   "source": [
    "splited_supertype = pd.DataFrame(mlb.fit_transform(dummies_dataset['supertype']), columns=mlb.classes_, index=dummies_dataset.index)\n",
    "dummies_dataset_colors = dummies_dataset.join(splited_supertype)\n",
    "dummies_dataset_colors"
   ]
  },
  {
   "cell_type": "code",
   "execution_count": null,
   "id": "e1b8faa2-d951-4aab-8f31-36b7f1642f17",
   "metadata": {},
   "outputs": [],
   "source": [
    "dummies_dataset = dummies_dataset_colors.drop(columns=['supertype'])\n",
    "dummies_dataset['colors'] = dummies_dataset['colors'].apply(lambda x: len(x))"
   ]
  },
  {
   "cell_type": "code",
   "execution_count": null,
   "id": "9fa85c9a-c592-46b2-a078-25d03d702db3",
   "metadata": {},
   "outputs": [],
   "source": []
  },
  {
   "cell_type": "code",
   "execution_count": null,
   "id": "e43cbb72-17f7-498b-93d5-916cf6cfe53b",
   "metadata": {},
   "outputs": [],
   "source": [
    "# pd.DataFrame(mlb.fit_transform(dummies_dataset['type']), columns=mlb.classes_, index=dummies_dataset.index)\n",
    "\n",
    "# enc = OneHotEncoder(handle_unknown='ignore', sparse=False)\n",
    "columns = list(dummies_dataset['type'].unique())\n",
    "enc = LabelBinarizer()\n",
    "dummies_dataset_type = pd.DataFrame(enc.fit_transform(dummies_dataset['type'].values.reshape(-1,1)), columns=[columns[i] for i in range(len(columns))])"
   ]
  },
  {
   "cell_type": "code",
   "execution_count": null,
   "id": "ebca5026-527b-45c5-af8b-774ad21c6bae",
   "metadata": {},
   "outputs": [],
   "source": [
    "dummies_dataset = dummies_dataset.join(dummies_dataset_type)\n",
    "dummies_dataset"
   ]
  },
  {
   "cell_type": "markdown",
   "id": "cafb7cf9-964f-4eeb-aaf0-5665b1df0434",
   "metadata": {},
   "source": [
    "Optou-se pelo descarte de se fazer dummies a partir da coluna de subtipos dado ao número elevado de colunas que seriam gerados:"
   ]
  },
  {
   "cell_type": "code",
   "execution_count": null,
   "id": "f2e10890-5900-4fbd-a7a4-b71837ec31ef",
   "metadata": {},
   "outputs": [],
   "source": [
    "subtypes_columns = list(dummies_dataset['subtype'].unique())\n",
    "len(subtypes_columns)"
   ]
  },
  {
   "cell_type": "code",
   "execution_count": null,
   "id": "769e494b-de92-40d5-8fd4-65c2952acd9d",
   "metadata": {},
   "outputs": [],
   "source": [
    "filled_dataset = dummies_dataset.copy()\n",
    "filled_dataset.replace(np.nan, 0, inplace=True)"
   ]
  },
  {
   "cell_type": "code",
   "execution_count": null,
   "id": "ca5d15c1-546e-4143-bef7-e2d8b853f9b1",
   "metadata": {},
   "outputs": [],
   "source": [
    "filled_dataset['oracle_text'].replace(0, \"\", inplace=True)"
   ]
  },
  {
   "cell_type": "code",
   "execution_count": null,
   "id": "7d6b5286-75a1-45a1-99ad-259b3007de4a",
   "metadata": {},
   "outputs": [],
   "source": [
    "filled_dataset['comment'].replace(0, \"\", inplace=True)"
   ]
  },
  {
   "cell_type": "code",
   "execution_count": null,
   "id": "e38a2274-b347-4446-844f-779cfef0f93d",
   "metadata": {},
   "outputs": [],
   "source": [
    "filled_dataset['oracle_text'] = filled_dataset['oracle_text'] + ' ' + filled_dataset['comment']\n",
    "filled_dataset"
   ]
  },
  {
   "cell_type": "code",
   "execution_count": null,
   "id": "41028458-e09f-4aed-89b8-d58d76f0d031",
   "metadata": {},
   "outputs": [],
   "source": [
    "filled_dataset.drop(columns=['comment', 'type', 'subtype'], inplace=True)\n",
    "filled_dataset"
   ]
  },
  {
   "cell_type": "markdown",
   "id": "3a17107e-663a-4a95-bc8a-9f6d31d95254",
   "metadata": {},
   "source": [
    "## Salvando o conjunto de dados"
   ]
  },
  {
   "cell_type": "code",
   "execution_count": null,
   "id": "e953667d-a6cd-44d7-95d4-5a2e0d373408",
   "metadata": {},
   "outputs": [],
   "source": [
    "import feather"
   ]
  }
 ],
 "metadata": {
  "kernelspec": {
   "display_name": "Python 3 (ipykernel)",
   "language": "python",
   "name": "python3"
  },
  "language_info": {
   "codemirror_mode": {
    "name": "ipython",
    "version": 3
   },
   "file_extension": ".py",
   "mimetype": "text/x-python",
   "name": "python",
   "nbconvert_exporter": "python",
   "pygments_lexer": "ipython3",
   "version": "3.8.16"
  }
 },
 "nbformat": 4,
 "nbformat_minor": 5
}
